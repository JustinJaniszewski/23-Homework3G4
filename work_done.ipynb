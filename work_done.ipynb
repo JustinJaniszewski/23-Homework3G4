{
  "nbformat": 4,
  "nbformat_minor": 0,
  "metadata": {
    "colab": {
      "provenance": [],
      "authorship_tag": "ABX9TyNHU21Xl6Ns0WnxTv/SsoTq",
      "include_colab_link": true
    },
    "kernelspec": {
      "name": "python3",
      "display_name": "Python 3"
    },
    "language_info": {
      "name": "python"
    }
  },
  "cells": [
    {
      "cell_type": "markdown",
      "metadata": {
        "id": "view-in-github",
        "colab_type": "text"
      },
      "source": [
        "<a href=\"https://colab.research.google.com/github/tirthbha/23-Homework3G4/blob/own_library_created/work_done.ipynb\" target=\"_parent\"><img src=\"https://colab.research.google.com/assets/colab-badge.svg\" alt=\"Open In Colab\"/></a>"
      ]
    },
    {
      "cell_type": "code",
      "execution_count": 6,
      "metadata": {
        "id": "xGNKikhUmp2G"
      },
      "outputs": [],
      "source": [
        "# hw_work_done_G4.py\n",
        "\n",
        "def calculate_work_done(velocities, mass):\n",
        "    \"\"\"\n",
        "    Calculate and yield the work done at each velocity point.\n",
        "\n",
        "    Args:\n",
        "        velocities (list): List of velocities in meters per second.\n",
        "        mass (float): Mass of the car in kilograms.\n",
        "\n",
        "    Yields:\n",
        "        float: Work done at each velocity point in Joules.\n",
        "    \"\"\"\n",
        "    prev_velocity = 0\n",
        "    for velocity in velocities:\n",
        "        # Calculate the change in kinetic energy (delta_ke) using the formula for kinetic energy\n",
        "        delta_ke = 0.5 * mass * (velocity**2 - prev_velocity**2)\n",
        "        prev_velocity = velocity  # Update the previous velocity for the next iteration\n",
        "        yield delta_ke  # Yield the calculated work done at each point"
      ]
    },
    {
      "cell_type": "code",
      "source": [
        "%%writefile hw_work_done_G4.py"
      ],
      "metadata": {
        "colab": {
          "base_uri": "https://localhost:8080/"
        },
        "id": "WXOaW9nEmq5b",
        "outputId": "eef0b83a-f707-4bdd-f600-7c0fd0309ba3"
      },
      "execution_count": 10,
      "outputs": [
        {
          "output_type": "stream",
          "name": "stdout",
          "text": [
            "Writing hw_work_done_G4.py\n"
          ]
        }
      ]
    },
    {
      "cell_type": "code",
      "source": [
        "import hw_work_done_G4  # Import the function from the module\n",
        "\n",
        "# Given data\n",
        "velocities_mph = [10, 20, 30, 40, 50]  # List of velocities in miles per hour\n",
        "time_hours = 1  # Time in hours\n",
        "mph_to_mps = 0.44704  # Conversion factor to convert miles per hour to meters per second\n",
        "mass_of_car = 1000  # Mass of the car in kilograms\n",
        "\n",
        "# Convert velocities from miles per hour to meters per second using a lambda function\n",
        "convert_to_mps = lambda v_mph: v_mph * mph_to_mps\n",
        "velocities_mps = list(map(convert_to_mps, velocities_mph))\n",
        "\n",
        "# Calculate work done at each point and store it in a list\n",
        "work_done_list = list(calculate_work_done(velocities_mps, mass_of_car))\n",
        "print(work_done_list)  # Print the list of work done at each velocity point\n",
        "\n",
        "# Calculate work done at each point again and estimate the overall work done by summing them up\n",
        "total_work_done = 0\n",
        "for delta_ke in calculate_work_done(velocities_mps, mass_of_car):\n",
        "    total_work_done += delta_ke\n",
        "\n",
        "# Output the overall work done in Joules\n",
        "print(\"Overall Work Done:\", total_work_done, \"Joules\")\n"
      ],
      "metadata": {
        "colab": {
          "base_uri": "https://localhost:8080/"
        },
        "id": "KgBlvK6sol4V",
        "outputId": "58ddcd1c-4a83-4cfa-816c-00ce0b7c815f"
      },
      "execution_count": 12,
      "outputs": [
        {
          "output_type": "stream",
          "name": "stdout",
          "text": [
            "[9992.238079999997, 29976.714239999994, 49961.1904, 69945.66655999998, 89930.14272000005]\n",
            "Overall Work Done: 249805.95200000005 Joules\n"
          ]
        }
      ]
    },
    {
      "cell_type": "code",
      "source": [],
      "metadata": {
        "id": "Bxz-AsrupsXJ"
      },
      "execution_count": null,
      "outputs": []
    }
  ]
}